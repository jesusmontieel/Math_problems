{
 "cells": [
  {
   "cell_type": "markdown",
   "id": "5d597ef6",
   "metadata": {},
   "source": [
    "Code that uses recursion and Euclidean Algorithm to find the greatest common divisor of 2 numbers in $\\mathbb{Z}$.\n",
    "Remember that the gratest common divisor of two integer numbers, $n_1$ and $n_2$, is the biggest positive number that divides both $n_1$ and $n_2$ without remainder. "
   ]
  },
  {
   "cell_type": "code",
   "execution_count": 1,
   "id": "320e2ab3",
   "metadata": {},
   "outputs": [],
   "source": [
    "def gcd(num1,num2):\n",
    "    num1 = abs(num1)\n",
    "    num2 = abs(num2)\n",
    "    r = 1\n",
    "    if num1 ==  num2:\n",
    "        return 1\n",
    "    elif num1 > num2:\n",
    "        r = num1%num2\n",
    "        if r == 0:\n",
    "            return num2\n",
    "        return gcd(num2,r)\n",
    "    else:\n",
    "        r = num2%num1\n",
    "        if r == 0:\n",
    "            return num1\n",
    "        return gcd(num1,r)"
   ]
  },
  {
   "cell_type": "code",
   "execution_count": 2,
   "id": "7f95605e",
   "metadata": {},
   "outputs": [
    {
     "data": {
      "text/plain": [
       "15"
      ]
     },
     "execution_count": 2,
     "metadata": {},
     "output_type": "execute_result"
    }
   ],
   "source": [
    "gcd(-150,45)"
   ]
  }
 ],
 "metadata": {
  "kernelspec": {
   "display_name": "Python 3 (ipykernel)",
   "language": "python",
   "name": "python3"
  },
  "language_info": {
   "codemirror_mode": {
    "name": "ipython",
    "version": 3
   },
   "file_extension": ".py",
   "mimetype": "text/x-python",
   "name": "python",
   "nbconvert_exporter": "python",
   "pygments_lexer": "ipython3",
   "version": "3.9.7"
  }
 },
 "nbformat": 4,
 "nbformat_minor": 5
}
